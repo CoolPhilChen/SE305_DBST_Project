{
 "cells": [
  {
   "cell_type": "code",
   "execution_count": 1,
   "metadata": {},
   "outputs": [],
   "source": [
    "from bs4 import BeautifulSoup\n",
    "import re"
   ]
  },
  {
   "cell_type": "markdown",
   "metadata": {},
   "source": [
    "### Extract Book Info"
   ]
  },
  {
   "cell_type": "code",
   "execution_count": 16,
   "metadata": {},
   "outputs": [],
   "source": [
    "path = '../raw_data_sample/book_info/'\n",
    "book_names, languages, authors, urls = [], [], [], []\n",
    "for book_id in range(1, 105):\n",
    "    html = open('{}/{}.html'.format(path, book_id), 'r')\n",
    "    soup = BeautifulSoup(html, features='lxml')\n",
    "\n",
    "    b_id = book_id # book_id\n",
    "#     try:\n",
    "#         book_name = soup.find(name='th', text='Title').parent.td.get_text()\n",
    "#     except AttributeError:\n",
    "#         book_name = 'None'\n",
    "#     try:\n",
    "#         author = soup.find(name='th', text='Author').parent.td.get_text().strip()\n",
    "#     except AttributeError:\n",
    "#         author = 'Unknown'\n",
    "    book_name = soup.find(name='th', text='Title').parent.td.get_text().strip()\n",
    "    language = soup.find(name='th', text='Language').parent.td.get_text().strip()\n",
    "    try:\n",
    "        author = soup.find(name='th', text='Author').parent.td.get_text().strip()\n",
    "    except AttributeError:\n",
    "        author = 'Unknown'\n",
    "    try:\n",
    "        url = 'https:' + soup.find(text=re.compile('Read this book online')).parent['href']\n",
    "    except AttributeError:\n",
    "        url = 'Unknown'\n",
    "\n",
    "    book_names.append(book_name)\n",
    "    languages.append(language)\n",
    "    authors.append(author)\n",
    "    urls.append(url)"
   ]
  },
  {
   "cell_type": "markdown",
   "metadata": {},
   "source": [
    "### Extract Figure Info"
   ]
  },
  {
   "cell_type": "code",
   "execution_count": null,
   "metadata": {},
   "outputs": [],
   "source": [
    "path = '../raw_data_sample/book_content/'"
   ]
  },
  {
   "cell_type": "code",
   "execution_count": null,
   "metadata": {},
   "outputs": [],
   "source": []
  },
  {
   "cell_type": "code",
   "execution_count": null,
   "metadata": {},
   "outputs": [],
   "source": []
  },
  {
   "cell_type": "code",
   "execution_count": null,
   "metadata": {},
   "outputs": [],
   "source": []
  },
  {
   "cell_type": "code",
   "execution_count": null,
   "metadata": {},
   "outputs": [],
   "source": []
  },
  {
   "cell_type": "code",
   "execution_count": null,
   "metadata": {},
   "outputs": [],
   "source": []
  },
  {
   "cell_type": "code",
   "execution_count": null,
   "metadata": {},
   "outputs": [],
   "source": []
  },
  {
   "cell_type": "code",
   "execution_count": null,
   "metadata": {},
   "outputs": [],
   "source": []
  },
  {
   "cell_type": "code",
   "execution_count": null,
   "metadata": {},
   "outputs": [],
   "source": []
  }
 ],
 "metadata": {
  "kernelspec": {
   "display_name": "Python 3",
   "language": "python",
   "name": "python3"
  },
  "language_info": {
   "codemirror_mode": {
    "name": "ipython",
    "version": 3
   },
   "file_extension": ".py",
   "mimetype": "text/x-python",
   "name": "python",
   "nbconvert_exporter": "python",
   "pygments_lexer": "ipython3",
   "version": "3.6.1"
  }
 },
 "nbformat": 4,
 "nbformat_minor": 2
}
