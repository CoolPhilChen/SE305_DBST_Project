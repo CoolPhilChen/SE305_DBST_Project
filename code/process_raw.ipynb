{
 "cells": [
  {
   "cell_type": "code",
   "execution_count": 1,
   "metadata": {},
   "outputs": [],
   "source": [
    "from bs4 import BeautifulSoup\n",
    "import re\n",
    "from tqdm import tqdm"
   ]
  },
  {
   "cell_type": "markdown",
   "metadata": {},
   "source": [
    "# Extract Book Info"
   ]
  },
  {
   "cell_type": "code",
   "execution_count": 616,
   "metadata": {},
   "outputs": [
    {
     "name": "stderr",
     "output_type": "stream",
     "text": [
      "100%|██████████| 104/104 [00:02<00:00, 46.49it/s]\n"
     ]
    }
   ],
   "source": [
    "path = '../raw_data_sample/book_info'\n",
    "book_ids, book_names, languages, authors, b_urls = [], [], [], [], []\n",
    "missed = []\n",
    "decode_err = []\n",
    "\n",
    "for book_id in tqdm(range(1, 105)):\n",
    "    try:\n",
    "        html = open('{}/{}.html'.format(path, book_id), 'r', encoding='ISO-8859-1')\n",
    "        soup = BeautifulSoup(html, features='lxml')\n",
    "    except FileNotFoundError:\n",
    "        # print('{} missed!'.format(book_id))\n",
    "        missed.append(book_id)\n",
    "        continue\n",
    "    except UnicodeDecodeError:\n",
    "        # print('{} decoding error'.format(book_id))\n",
    "        decode_err.append(book_id)\n",
    "        continue\n",
    "\n",
    "    # book_name\n",
    "    try:\n",
    "        book_name = soup.find(name='th', text='Title')\n",
    "        book_name = book_name.parent.td.get_text().strip().replace('\\n', ', ')\n",
    "    except AttributeError:\n",
    "        book_name = 'Unknown'\n",
    "    \n",
    "    # author\n",
    "    try:\n",
    "        language = soup.find(name='th', text='Language')\n",
    "        language = language.parent.td.get_text().strip().replace('\\n', ', ')\n",
    "    except AttributeError:\n",
    "        author = 'Unknown'\n",
    "    \n",
    "    # language\n",
    "    try:\n",
    "        author = soup.find(name='th', text='Author')\n",
    "        author = author.parent.td.get_text().strip().replace('\\n', ', ')\n",
    "    except AttributeError:\n",
    "        author = 'Unknown'\n",
    "    \n",
    "    # b_url\n",
    "    try:\n",
    "        b_url = 'https:' + soup.find(text=re.compile('Read this book online')).parent['href']\n",
    "    except AttributeError:\n",
    "        b_url = 'Unknown'\n",
    "\n",
    "    book_ids.append(book_id)\n",
    "    book_names.append(book_name)\n",
    "    languages.append(language)\n",
    "    authors.append(author)\n",
    "    b_urls.append(b_url)"
   ]
  },
  {
   "cell_type": "markdown",
   "metadata": {},
   "source": [
    "## write to txt file"
   ]
  },
  {
   "cell_type": "code",
   "execution_count": 617,
   "metadata": {},
   "outputs": [
    {
     "name": "stdout",
     "output_type": "stream",
     "text": [
      "104\n"
     ]
    }
   ],
   "source": [
    "book_num = len(book_ids)\n",
    "print(book_num)\n",
    "with open('Books.txt', 'w') as file:\n",
    "    file.write('book_id \\t book_name \\t author \\t b_url \\t language \\n')\n",
    "    for i in range(book_num):\n",
    "        file.write('{0} \\t {1} \\t {2} \\t {3} \\t {4} \\n'.format(\n",
    "                    book_ids[i], book_names[i], authors[i], b_urls[i], languages[i])\n",
    "                  )"
   ]
  },
  {
   "cell_type": "markdown",
   "metadata": {},
   "source": [
    "# Extract Figure Info"
   ]
  },
  {
   "cell_type": "code",
   "execution_count": 627,
   "metadata": {},
   "outputs": [
    {
     "name": "stderr",
     "output_type": "stream",
     "text": [
      "100%|██████████| 104/104 [00:10<00:00, 10.16it/s]"
     ]
    },
    {
     "name": "stdout",
     "output_type": "stream",
     "text": [
      "27\n"
     ]
    },
    {
     "name": "stderr",
     "output_type": "stream",
     "text": [
      "\n"
     ]
    }
   ],
   "source": [
    "path = '../raw_data_sample/book_content'\n",
    "book_ids, chap_nums, p_urls, dep_words = [], [], [], []\n",
    "missed = []\n",
    "decode_err = []\n",
    "valid_books = []\n",
    "\n",
    "for book_id in tqdm(range(1, 105)):\n",
    "# for book_id in range(1, 20):\n",
    "    try:\n",
    "        html = open('{}/{}.html'.format(path, book_id), 'r', encoding='ISO-8859-1')\n",
    "        soup = BeautifulSoup(html, features='lxml')\n",
    "    except FileNotFoundError:\n",
    "        # print('{} missed!'.format(book_id))\n",
    "        missed.append(book_id)\n",
    "        continue\n",
    "    except UnicodeDecodeError:\n",
    "        # print('{} decoding error'.format(book_id))\n",
    "        decode_err.append(book_id)\n",
    "        continue\n",
    "    \n",
    "    chap_num = 0\n",
    "    next_ele = soup.title\n",
    "    # print(next_ele)\n",
    "    # print(book_id)\n",
    "\n",
    "    while next_ele != None:\n",
    "        if next_ele.name in ['h2', 'h3']:\n",
    "            text = next_ele.get_text().strip().lower().split()\n",
    "            if 'chapter' in text and 'chapter' == text[0]:\n",
    "                chap_num += 1\n",
    "                # print(text, chap_num)\n",
    "        \n",
    "        if (chap_num > 0) and (next_ele.name == 'img'):\n",
    "            alt = next_ele['alt'].strip().replace('\\n', ', ')\n",
    "            src = next_ele['src']\n",
    "            backslash = b_urls[book_id-1].rfind('/')\n",
    "            p_url = b_urls[book_id-1][:backslash] + '/' + src\n",
    "            \n",
    "            book_ids.append(book_id)\n",
    "            chap_nums.append(chap_num)\n",
    "            p_urls.append(p_url)\n",
    "            dep_words.append(alt)\n",
    "        \n",
    "        next_ele = next_ele.next_element\n",
    "    \n",
    "    if chap_num > 0:\n",
    "        valid_books.append(book_id)\n",
    "\n",
    "print(len(valid_books))"
   ]
  },
  {
   "cell_type": "markdown",
   "metadata": {},
   "source": [
    "## write to txt file"
   ]
  },
  {
   "cell_type": "code",
   "execution_count": 630,
   "metadata": {},
   "outputs": [
    {
     "name": "stdout",
     "output_type": "stream",
     "text": [
      "486\n"
     ]
    }
   ],
   "source": [
    "pic_num = len(book_ids)\n",
    "print(pic_num)\n",
    "with open('Pictures.txt', 'w') as file:\n",
    "    file.write('book_id \\t chap_num \\t p_url \\t desp_words \\n')\n",
    "    for i in range(pic_num):\n",
    "        file.write('{0} \\t {1} \\t {2} \\t {3} \\n'.format(\n",
    "                    book_ids[i], chap_nums[i], p_urls[i], dep_words[i])\n",
    "                  )"
   ]
  },
  {
   "cell_type": "code",
   "execution_count": null,
   "metadata": {},
   "outputs": [],
   "source": []
  },
  {
   "cell_type": "code",
   "execution_count": null,
   "metadata": {},
   "outputs": [],
   "source": []
  }
 ],
 "metadata": {
  "kernelspec": {
   "display_name": "Python 3",
   "language": "python",
   "name": "python3"
  },
  "language_info": {
   "codemirror_mode": {
    "name": "ipython",
    "version": 3
   },
   "file_extension": ".py",
   "mimetype": "text/x-python",
   "name": "python",
   "nbconvert_exporter": "python",
   "pygments_lexer": "ipython3",
   "version": "3.6.1"
  }
 },
 "nbformat": 4,
 "nbformat_minor": 2
}
